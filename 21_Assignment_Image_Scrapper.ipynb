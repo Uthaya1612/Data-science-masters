{
 "cells": [
  {
   "cell_type": "markdown",
   "id": "e65e570a-a66b-481f-98c0-194786a84ada",
   "metadata": {},
   "source": [
    "URL: https://www.youtube.com/@PW-Foundation/videos\n",
    "Q1. Write a python program to extract the video URL of the first five videos.\n"
   ]
  },
  {
   "cell_type": "code",
   "execution_count": 1,
   "id": "5b8dd722-06fd-4f33-a094-4a90cb6c14ee",
   "metadata": {},
   "outputs": [],
   "source": [
    "import requests\n",
    "from bs4 import BeautifulSoup as bs\n",
    "from urllib.request import urlopen\n",
    "import logging"
   ]
  },
  {
   "cell_type": "code",
   "execution_count": 5,
   "id": "cbb947d0-417e-4e18-aaab-c8c465e66588",
   "metadata": {},
   "outputs": [
    {
     "data": {
      "text/plain": [
       "95"
      ]
     },
     "execution_count": 5,
     "metadata": {},
     "output_type": "execute_result"
    }
   ],
   "source": [
    "src_url = \"https://www.youtube.com/@PW-Foundation/videos\"\n",
    "urlclient = urlopen(src_url)\n",
    "url_page = urlclient.read()\n",
    "url_html= bs(url_page)\n",
    "bigbox = url_html.find_all(\"div\")\n",
    "len(bigbox)\n"
   ]
  },
  {
   "cell_type": "code",
   "execution_count": 7,
   "id": "32fc784c-1362-4daf-9181-2170db0205a0",
   "metadata": {},
   "outputs": [
    {
     "data": {
      "text/plain": [
       "95"
      ]
     },
     "execution_count": 7,
     "metadata": {},
     "output_type": "execute_result"
    }
   ],
   "source": [
    "len(bigbox)\n",
    "#for i in range(0,len(bigbox)):\n",
    "    #print(\"component {} = {}\".format(i,bigbox[i]))\n",
    "#print(list(bigbox),end=\".......\")"
   ]
  },
  {
   "cell_type": "code",
   "execution_count": 12,
   "id": "5239ec40-6cc1-4f9c-96bf-61096caa7721",
   "metadata": {},
   "outputs": [
    {
     "name": "stdout",
     "output_type": "stream",
     "text": [
      "Total  0 videos found\n",
      "no videos found\n"
     ]
    }
   ],
   "source": [
    "import requests\n",
    "from bs4 import BeautifulSoup\n",
    " \n",
    "# Web URL\n",
    "Web_url = \"https://www.youtube.com/@PW-Foundation/videos\"\n",
    " \n",
    "# Get URL Content\n",
    "r = requests.get(Web_url)\n",
    " \n",
    "# Parse HTML Code\n",
    "soup = BeautifulSoup(r.content, 'html.parser')\n",
    "\n",
    "# List of all video tag\n",
    "video_tags = soup.findAll('video')\n",
    "print(\"Total \", len(video_tags), \"videos found\")\n",
    " \n",
    "if len(video_tags) != 0:\n",
    "    for video_tag in video_tags:\n",
    "        video_url = video_tag.find(\"a\")['href']\n",
    "        print(video_url)\n",
    "else:\n",
    "    print(\"no videos found\")"
   ]
  },
  {
   "cell_type": "code",
   "execution_count": 15,
   "id": "cc9993b5-9031-4268-83f6-37aa077d95a5",
   "metadata": {},
   "outputs": [
    {
     "name": "stdout",
     "output_type": "stream",
     "text": [
      "/\n",
      "/\n",
      "https://www.youtube.com/about/\n",
      "https://www.youtube.com/about/press/\n",
      "https://www.youtube.com/about/copyright/\n",
      "/t/contact_us/\n",
      "https://www.youtube.com/creators/\n",
      "https://www.youtube.com/ads/\n",
      "https://developers.google.com/youtube\n",
      "/t/terms\n",
      "/t/privacy\n",
      "https://www.youtube.com/about/policies/\n",
      "https://www.youtube.com/howyoutubeworks?utm_campaign=ytgen&utm_source=ythp&utm_medium=LeftNav&utm_content=txt&u=https%3A%2F%2Fwww.youtube.com%2Fhowyoutubeworks%3Futm_source%3Dythp%26utm_medium%3DLeftNav%26utm_campaign%3Dytgen\n",
      "/new\n"
     ]
    }
   ],
   "source": [
    "import requests\n",
    "from bs4 import BeautifulSoup\n",
    " \n",
    " \n",
    "url = 'https://www.youtube.com/@PW-Foundation/videos/'\n",
    "reqs = requests.get(url)\n",
    "soup = BeautifulSoup(reqs.text, 'html.parser')\n",
    " \n",
    "urls = []\n",
    "for link in soup.find_all('a'):\n",
    "    print(link.get('href'))"
   ]
  },
  {
   "cell_type": "code",
   "execution_count": 43,
   "id": "5e68a03f-b76b-4f49-98c7-6f857d2c07ef",
   "metadata": {},
   "outputs": [],
   "source": [
    "src_url = \"https://www.youtube.com/@PW-Foundation/videos\"\n",
    "import requests\n",
    "response = requests.get(src_url)\n",
    "#print(response.content)"
   ]
  },
  {
   "cell_type": "markdown",
   "id": "dede514f-b456-46c7-91e4-c67b32607453",
   "metadata": {},
   "source": [
    "Q2. Write a python program to extract the URL of the video thumbnails of the first five videos.\n"
   ]
  },
  {
   "cell_type": "markdown",
   "id": "a227cfff-629e-420c-b8d1-4c0cd4dd637f",
   "metadata": {},
   "source": [
    "Q3. Write a python program to extract the title of the first five videos.\n"
   ]
  },
  {
   "cell_type": "markdown",
   "id": "456fb804-b86e-49ea-a290-4a28dcf20570",
   "metadata": {},
   "source": [
    "Q4. Write a python program to extract the number of views of the first five videos.\n"
   ]
  },
  {
   "cell_type": "markdown",
   "id": "2f3e1a5a-7cba-4b58-8581-3ea084152ec7",
   "metadata": {},
   "source": [
    "Q5. Write a python program to extract the time of posting of video for the first five videos."
   ]
  },
  {
   "cell_type": "code",
   "execution_count": 4,
   "id": "3f0b245a-a92a-4d3c-bb96-f85553b3b487",
   "metadata": {},
   "outputs": [],
   "source": [
    "src_url = \"https://www.youtube.com/@PW-Foundation/videos\"\n",
    "\n"
   ]
  },
  {
   "cell_type": "code",
   "execution_count": 59,
   "id": "0d5ea799-47c3-49fe-9b20-02413df3637d",
   "metadata": {},
   "outputs": [
    {
     "data": {
      "text/plain": [
       "[<div class=\"ytd-searchbox-spt\" id=\"search-container\" slot=\"search-container\"></div>]"
      ]
     },
     "execution_count": 59,
     "metadata": {},
     "output_type": "execute_result"
    }
   ],
   "source": [
    "src_url = \"https://www.youtube.com/@PW-Foundation/videos\"\n",
    "urlclient = urlopen(src_url)\n",
    "url_page = urlclient.read()\n",
    "url_html= bs(url_page,'html.parser')\n",
    "url_html.find_all(\"div\",{\"id\":\"search-container\"})\n"
   ]
  },
  {
   "cell_type": "code",
   "execution_count": null,
   "id": "8a619d17-73fd-41ad-ac14-142c171abf9a",
   "metadata": {},
   "outputs": [],
   "source": []
  }
 ],
 "metadata": {
  "kernelspec": {
   "display_name": "Python 3 (ipykernel)",
   "language": "python",
   "name": "python3"
  },
  "language_info": {
   "codemirror_mode": {
    "name": "ipython",
    "version": 3
   },
   "file_extension": ".py",
   "mimetype": "text/x-python",
   "name": "python",
   "nbconvert_exporter": "python",
   "pygments_lexer": "ipython3",
   "version": "3.10.8"
  }
 },
 "nbformat": 4,
 "nbformat_minor": 5
}
